{
 "cells": [
  {
   "cell_type": "markdown",
   "metadata": {},
   "source": [
    "# Kaggle Competition: Predicting Red Hat Business Value\n",
    "## Define the problem: Classify customer potential\n",
    "Like most companies, Red Hat is able to gather a great deal of information over time about the behavior of individuals who interact with them. They’re in search of better methods of using this behavioral data to predict which individuals they should approach—and even when and how to approach them.\n",
    "\n",
    "**What is the problem? (include similar problems and assumptions)** <br>\n",
    "In this competition, Kagglers are challenged to create a classification algorithm that accurately identifies which customers have the most potential business value for Red Hat based on their characteristics and activities.\n",
    "\n",
    "**Why does the problem need to be solved?** <br>\n",
    "With an improved prediction model in place, Red Hat will be able to more efficiently prioritize resources to generate more business and better serve their customers.\n",
    "\n",
    "The challenge of this competition is to predict the potential business value of a person who has performed a specific activity. The business value outcome is defined by a yes/no field attached to each unique activity in the activity file. The outcome field indicates whether or not each person has completed the outcome within a fixed window of time after each unique activity was performed.\n",
    "\n",
    "**How could the problem be solved (manually brainstorm potential approaches)** <br>\n",
    "TBC\n",
    "\n",
    "## Data \n",
    "**Explain the data available (What is/is'nt needed)** <br>\n",
    "This competition uses two separate data files that may be joined together to create a single, unified data table: a people file and an activity file.\n",
    "\n",
    "The people file contains all of the unique people (and the corresponding characteristics) that have performed activities over time. Each row in the people file represents a unique person. Each person has a unique people_id.\n",
    "\n",
    "The activity file contains all of the unique activities (and the corresponding activity characteristics) that each person has performed over time. Each row in the activity file represents a unique activity performed by a person on a certain date. Each activity has a unique activity_id.\n",
    "\n",
    "The activity file contains several different categories of activities. Type 1 activities are different from type 2-7 activities because there are more known characteristics associated with type 1 activities (nine in total) than type 2-7 activities (which have only one associated characteristic).\n",
    "\n",
    "To develop a predictive model with this data, you will likely need to join the files together into a single data set. The two files can be joined together using person_id as the common key. All variables are categorical, with the exception of 'char_38' in the people file, which is a continuous numerical variable.\n",
    "\n",
    "## Evaluation Criteria\n",
    "For each activity_id in the test set, you must predict a probability for the 'outcome' variable, represented by a number between 0 and 1\n",
    "Evaluated on area under the ROC curve between the predicted and the observed outcome\n",
    "\n",
    "### Reference\n",
    "https://www.kaggle.com/c/predicting-red-hat-business-value/data <br>\n",
    "https://machinelearningmastery.com/machine-learning-checklist/ <br>\n",
    "https://machinelearningmastery.com/process-for-working-through-machine-learning-problems/ <br> \n",
    "https://medium.com/swlh/framework-for-creating-value-with-ai-6c6d5bb5ff42"
   ]
  },
  {
   "cell_type": "code",
   "execution_count": 1,
   "metadata": {},
   "outputs": [],
   "source": [
    "#Process: imports, read data, data preparation, data transforms, model selection, model tuning, ensemlbing and so on is a combinatorial problem"
   ]
  },
  {
   "cell_type": "markdown",
   "metadata": {},
   "source": [
    "**Import Libraries**"
   ]
  },
  {
   "cell_type": "code",
   "execution_count": 2,
   "metadata": {},
   "outputs": [],
   "source": [
    "#!pip install ipython-autotime"
   ]
  },
  {
   "cell_type": "code",
   "execution_count": 3,
   "metadata": {},
   "outputs": [],
   "source": [
    "import os\n",
    "import pandas as pd\n",
    "import numpy as np\n",
    "\n",
    "import warnings\n",
    "warnings.filterwarnings('ignore')\n",
    "\n",
    "#%load_ext autotime"
   ]
  },
  {
   "cell_type": "code",
   "execution_count": 4,
   "metadata": {},
   "outputs": [
    {
     "name": "stderr",
     "output_type": "stream",
     "text": [
      "\n",
      "Bad key text.latex.unicode in file /anaconda3/lib/python3.6/site-packages/matplotlib/mpl-data/stylelib/_classic_test.mplstyle, line 112 ('text.latex.unicode : False # use \"ucs\" and \"inputenc\" LaTeX packages for handling')\n",
      "You probably need to get an updated matplotlibrc file from\n",
      "https://github.com/matplotlib/matplotlib/blob/v3.3.2/matplotlibrc.template\n",
      "or from the matplotlib source distribution\n",
      "\n",
      "Bad key savefig.frameon in file /anaconda3/lib/python3.6/site-packages/matplotlib/mpl-data/stylelib/_classic_test.mplstyle, line 423 ('savefig.frameon : True')\n",
      "You probably need to get an updated matplotlibrc file from\n",
      "https://github.com/matplotlib/matplotlib/blob/v3.3.2/matplotlibrc.template\n",
      "or from the matplotlib source distribution\n",
      "\n",
      "Bad key nbagg.transparent in file /anaconda3/lib/python3.6/site-packages/matplotlib/mpl-data/stylelib/_classic_test.mplstyle, line 426 ('nbagg.transparent: True')\n",
      "You probably need to get an updated matplotlibrc file from\n",
      "https://github.com/matplotlib/matplotlib/blob/v3.3.2/matplotlibrc.template\n",
      "or from the matplotlib source distribution\n",
      "\n",
      "Bad key pgf.debug in file /anaconda3/lib/python3.6/site-packages/matplotlib/mpl-data/stylelib/_classic_test.mplstyle, line 446 ('pgf.debug           : False')\n",
      "You probably need to get an updated matplotlibrc file from\n",
      "https://github.com/matplotlib/matplotlib/blob/v3.3.2/matplotlibrc.template\n",
      "or from the matplotlib source distribution\n",
      "\n",
      "Bad key verbose.level in file /anaconda3/lib/python3.6/site-packages/matplotlib/mpl-data/stylelib/_classic_test.mplstyle, line 477 ('verbose.level  : silent      # one of silent, helpful, debug, debug-annoying')\n",
      "You probably need to get an updated matplotlibrc file from\n",
      "https://github.com/matplotlib/matplotlib/blob/v3.3.2/matplotlibrc.template\n",
      "or from the matplotlib source distribution\n",
      "\n",
      "Bad key verbose.fileo in file /anaconda3/lib/python3.6/site-packages/matplotlib/mpl-data/stylelib/_classic_test.mplstyle, line 478 ('verbose.fileo  : sys.stdout  # a log filename, sys.stdout or sys.stderr')\n",
      "You probably need to get an updated matplotlibrc file from\n",
      "https://github.com/matplotlib/matplotlib/blob/v3.3.2/matplotlibrc.template\n",
      "or from the matplotlib source distribution\n",
      "\n",
      "Bad key animation.mencoder_path in file /anaconda3/lib/python3.6/site-packages/matplotlib/mpl-data/stylelib/_classic_test.mplstyle, line 509 ('animation.mencoder_path: mencoder')\n",
      "You probably need to get an updated matplotlibrc file from\n",
      "https://github.com/matplotlib/matplotlib/blob/v3.3.2/matplotlibrc.template\n",
      "or from the matplotlib source distribution\n",
      "\n",
      "Bad key animation.mencoder_args in file /anaconda3/lib/python3.6/site-packages/matplotlib/mpl-data/stylelib/_classic_test.mplstyle, line 512 ('animation.mencoder_args:          # Additional arguments to pass to mencoder')\n",
      "You probably need to get an updated matplotlibrc file from\n",
      "https://github.com/matplotlib/matplotlib/blob/v3.3.2/matplotlibrc.template\n",
      "or from the matplotlib source distribution\n"
     ]
    }
   ],
   "source": [
    "from data_cleaning_helper_functions import *"
   ]
  },
  {
   "cell_type": "markdown",
   "metadata": {},
   "source": [
    "**Read Data**"
   ]
  },
  {
   "cell_type": "code",
   "execution_count": 5,
   "metadata": {},
   "outputs": [],
   "source": [
    "train_data = pd.read_csv('/Users/Rej1992/Documents/kaggle/Data/predicting-red-hat-business-value/act_train.csv')\n",
    "test_data = pd.read_csv('/Users/Rej1992/Documents/kaggle/Data/predicting-red-hat-business-value/act_test.csv')\n",
    "people = pd.read_csv('/Users/Rej1992/Documents/kaggle/Data/predicting-red-hat-business-value/people.csv')"
   ]
  },
  {
   "cell_type": "code",
   "execution_count": 6,
   "metadata": {},
   "outputs": [],
   "source": [
    "train_data['flag'] = 'train_data'\n",
    "test_data['flag'] = 'test_data'"
   ]
  },
  {
   "cell_type": "markdown",
   "metadata": {},
   "source": [
    "**Data Preprocessing (Data Preparation)** <br>\n",
    "Describe in detail each attribute and relationships between attributes. This grunt work forces thought about the data in the context of the problem before it is lost to the algorithms\n",
    "- Format data so that it is in a form that you can work with.\n",
    "- Clean the data so that it is uniform and consistent.\n",
    "- Representatively sample the data rows and select attributes that best expose the structures in the data to the models in order to best trade-off redundancy and problem fidelity "
   ]
  },
  {
   "cell_type": "code",
   "execution_count": 7,
   "metadata": {},
   "outputs": [
    {
     "data": {
      "text/plain": [
       "['outcome']"
      ]
     },
     "execution_count": 7,
     "metadata": {},
     "output_type": "execute_result"
    }
   ],
   "source": [
    "uncommon_elements(test_data.columns, train_data.columns)"
   ]
  },
  {
   "cell_type": "code",
   "execution_count": 8,
   "metadata": {},
   "outputs": [],
   "source": [
    "all_data = pd.concat([train_data, test_data], axis=0)"
   ]
  },
  {
   "cell_type": "code",
   "execution_count": 9,
   "metadata": {},
   "outputs": [],
   "source": [
    "assert (len(train_data) + len(test_data)) == len(all_data)"
   ]
  },
  {
   "cell_type": "code",
   "execution_count": 10,
   "metadata": {},
   "outputs": [
    {
     "data": {
      "text/plain": [
       "Int64Index([], dtype='int64')"
      ]
     },
     "execution_count": 10,
     "metadata": {},
     "output_type": "execute_result"
    }
   ],
   "source": [
    "duplicated_indicies(all_data)"
   ]
  },
  {
   "cell_type": "code",
   "execution_count": 11,
   "metadata": {},
   "outputs": [
    {
     "name": "stdout",
     "output_type": "stream",
     "text": [
      "Nan values = 23180833\n",
      "\n",
      "Variable char_1 has 2498271 records (92.67%) with missing values.\n",
      "Variable char_2 has 2498271 records (92.67%) with missing values.\n",
      "Variable char_3 has 2498271 records (92.67%) with missing values.\n",
      "Variable char_4 has 2498271 records (92.67%) with missing values.\n",
      "Variable char_5 has 2498271 records (92.67%) with missing values.\n",
      "Variable char_6 has 2498271 records (92.67%) with missing values.\n",
      "Variable char_7 has 2498271 records (92.67%) with missing values.\n",
      "Variable char_8 has 2498271 records (92.67%) with missing values.\n",
      "Variable char_9 has 2498271 records (92.67%) with missing values.\n",
      "Variable char_10 has 197707 records (7.33%) with missing values.\n",
      "Variable outcome has 498687 records (18.50%) with missing values.\n",
      "In total, there are 11 variables with missing values\n"
     ]
    }
   ],
   "source": [
    "identify_missing_values(all_data)"
   ]
  },
  {
   "cell_type": "code",
   "execution_count": 12,
   "metadata": {},
   "outputs": [
    {
     "data": {
      "image/png": "[encoded data removed]",
      "text/plain": [
       "<Figure size 1152x432 with 1 Axes>"
      ]
     },
     "metadata": {
      "needs_background": "light"
     },
     "output_type": "display_data"
    },
    {
     "data": {
      "image/png": "[encoded data removed]",
      "text/plain": [
       "<Figure size 1152x432 with 1 Axes>"
      ]
     },
     "metadata": {
      "needs_background": "light"
     },
     "output_type": "display_data"
    }
   ],
   "source": [
    "plot_missing_data(train_data, test_data)"
   ]
  },
  {
   "cell_type": "code",
   "execution_count": 14,
   "metadata": {},
   "outputs": [],
   "source": [
    "cols = ['activity_category', 'char_1', 'char_2', 'char_3', 'char_4', 'char_5', 'char_6', 'char_7', 'char_8', 'char_9', 'char_10']\n",
    "\n",
    "all_data = impute_nan_corrupt_missing_values_categorical(all_data, cols)"
   ]
  },
  {
   "cell_type": "code",
   "execution_count": 15,
   "metadata": {},
   "outputs": [
    {
     "name": "stdout",
     "output_type": "stream",
     "text": [
      "Nan values = 498687\n",
      "\n",
      "Variable outcome has 498687 records (18.50%) with missing values.\n",
      "In total, there are 1 variables with missing values\n"
     ]
    }
   ],
   "source": [
    "identify_missing_values(all_data)"
   ]
  },
  {
   "cell_type": "code",
   "execution_count": 16,
   "metadata": {},
   "outputs": [],
   "source": [
    "all_data['date'] = correct_dates(all_data, 'date')"
   ]
  },
  {
   "cell_type": "code",
   "execution_count": 17,
   "metadata": {},
   "outputs": [],
   "source": [
    "for category in cols:\n",
    "    all_data[category] = correct_category_datatype(all_data, category)"
   ]
  },
  {
   "cell_type": "code",
   "execution_count": 18,
   "metadata": {},
   "outputs": [
    {
     "name": "stdout",
     "output_type": "stream",
     "text": [
      "       activity_category        char_1        char_2        char_3  \\\n",
      "count            2695978       2695978       2695978       2695978   \n",
      "unique                 7            52            33            12   \n",
      "top               type 2  unclassified  unclassified  unclassified   \n",
      "freq             1127847       2498271       2498271       2498271   \n",
      "\n",
      "              char_4        char_5        char_6        char_7        char_8  \\\n",
      "count        2695978       2695978       2695978       2695978       2695978   \n",
      "unique             8             8             6             9            19   \n",
      "top     unclassified  unclassified  unclassified  unclassified  unclassified   \n",
      "freq         2498271       2498271       2498271       2498271       2498271   \n",
      "\n",
      "              char_9  char_10  \n",
      "count        2695978  2695978  \n",
      "unique            20     6970  \n",
      "top     unclassified   type 1  \n",
      "freq         2498271  1127847  \n",
      "\n",
      "Variable activity_category has 7 distinct values\n",
      "Variable char_1 has 52 distinct values\n",
      "Variable char_2 has 33 distinct values\n",
      "Variable char_3 has 12 distinct values\n",
      "Variable char_4 has 8 distinct values\n",
      "Variable char_5 has 8 distinct values\n",
      "Variable char_6 has 6 distinct values\n",
      "Variable char_7 has 9 distinct values\n",
      "Variable char_8 has 19 distinct values\n",
      "Variable char_9 has 20 distinct values\n",
      "Variable char_10 has 6970 distinct values\n"
     ]
    }
   ],
   "source": [
    "multiple_column_comparison(all_data, cols)\n",
    "print(\"\"\"\"\"\")\n",
    "determine_variable_cardinality(all_data, cols)"
   ]
  },
  {
   "cell_type": "code",
   "execution_count": 19,
   "metadata": {},
   "outputs": [],
   "source": [
    "all_data = remove_columns_unique_values(all_data) \n",
    "#all_data = zero_variance_predictors(all_data) # produces the same result as zero_variance_predictors: Slower approach"
   ]
  },
  {
   "cell_type": "code",
   "execution_count": 20,
   "metadata": {},
   "outputs": [
    {
     "data": {
      "text/plain": [
       "0    1221794\n",
       "1     975497\n",
       "Name: outcome, dtype: int64"
      ]
     },
     "execution_count": 20,
     "metadata": {},
     "output_type": "execute_result"
    }
   ],
   "source": [
    "determine_class_imbalance(train_data, 'outcome')"
   ]
  },
  {
   "cell_type": "markdown",
   "metadata": {},
   "source": [
    "**Data Transforms**\n",
    "- [x] Create linear and non-linear transformations of all attributes\n",
    "- [x] Decompose complex attributes into their constituent parts.\n",
    "- [x] Aggregate denormalized attributes into higher-order quantities.\n",
    "- [x] Common transforms (Square, Cube, Square root, Standardize (e.g. 0 mean and unit variance), Normalize (e.g. rescale to 0-1), Descritize (e.g. convert a real to categorical)"
   ]
  },
  {
   "cell_type": "code",
   "execution_count": 21,
   "metadata": {},
   "outputs": [
    {
     "name": "stdout",
     "output_type": "stream",
     "text": [
      "<class 'pandas.core.frame.DataFrame'>\n",
      "Int64Index: 2695978 entries, 0 to 498686\n",
      "Data columns (total 16 columns):\n",
      " #   Column             Dtype         \n",
      "---  ------             -----         \n",
      " 0   people_id          object        \n",
      " 1   activity_id        object        \n",
      " 2   date               datetime64[ns]\n",
      " 3   activity_category  category      \n",
      " 4   char_1             category      \n",
      " 5   char_2             category      \n",
      " 6   char_3             category      \n",
      " 7   char_4             category      \n",
      " 8   char_5             category      \n",
      " 9   char_6             category      \n",
      " 10  char_7             category      \n",
      " 11  char_8             category      \n",
      " 12  char_9             category      \n",
      " 13  char_10            category      \n",
      " 14  outcome            float64       \n",
      " 15  flag               object        \n",
      "dtypes: category(11), datetime64[ns](1), float64(1), object(3)\n",
      "memory usage: 154.6+ MB\n"
     ]
    }
   ],
   "source": [
    "all_data.info()"
   ]
  },
  {
   "cell_type": "markdown",
   "metadata": {},
   "source": [
    "Exploratory Data Analysis\n",
    "Develop a set of hypothesis's to test that should hold in the real world - Validate does the data make sense?\n",
    "- Create univariate plots of each attribute.\n",
    "- Create bivariate plots of each attribute with every other attribute.\n",
    "- Create bivariate plots of each attribute with the class variable"
   ]
  },
  {
   "cell_type": "code",
   "execution_count": null,
   "metadata": {},
   "outputs": [],
   "source": []
  },
  {
   "cell_type": "markdown",
   "metadata": {},
   "source": [
    "Model Development and Selection\n",
    "- Create Test Harness\n",
    "    - This section is intended to help you define a robust method for model evaluation that can reliably be used to compare results.\n",
    "    - Create a hold-out validation dataset for use later.\n",
    "    = Select a cross-validation strategy (which datasets perform the best? Why?)\n",
    "    - Evaluate and select an appropriate test option.\n",
    "    - Select one (or a small set) performance measure used to evaluate models.\n",
    "- Evalute Multiple (suitable) Model Candidates and select the most promising candidates\n",
    "    - Use statistical significance tests to flush out meaningful results from noise"
   ]
  },
  {
   "cell_type": "code",
   "execution_count": null,
   "metadata": {},
   "outputs": [],
   "source": []
  },
  {
   "cell_type": "markdown",
   "metadata": {},
   "source": [
    "Model Improvements\n",
    "- Model tuning\n",
    "- Ensemlbing Methods\n",
    "- Model Selection\n",
    "    - Select a diverse subset (5-10) of well performing models or model configurations.\n",
    "    - Evaluate well performing models on a hold out validation dataset (running an automated sensitivity analysis on the parameters of the top performing algorithms)\n",
    "    - Select a small pool (1-3) of well performing models.\n",
    "    - Include statistical tests to validate and support arguments in relation to model improvement "
   ]
  },
  {
   "cell_type": "code",
   "execution_count": null,
   "metadata": {},
   "outputs": [],
   "source": []
  },
  {
   "cell_type": "markdown",
   "metadata": {},
   "source": [
    "Finalise the Project\n",
    "- Decision Record\n",
    "- Present Results\n",
    "    - This section is intended to ensure you capture what you did and learned so that others (and your future self) can make best use of it\n",
    "    - Write up project in a short report (1-5 pages).\n",
    "    - Convert write-up to a slide deck to share findings with others.\n",
    "    - Share code and results with interested parties.\n",
    "\n",
    "- Operationalize Results\n",
    "    - This section is intended to ensure that you deliver on the solution promise made up front.\n",
    "    - Adapt the discovered procedure from raw data to result to an operational setting.\n",
    "    - Deliver and make use of the predictions.\n",
    "    - Deliver and make use of the predictive model."
   ]
  },
  {
   "cell_type": "code",
   "execution_count": null,
   "metadata": {},
   "outputs": [],
   "source": []
  }
 ],
 "metadata": {
  "kernelspec": {
   "display_name": "Python 3",
   "language": "python",
   "name": "python3"
  },
  "language_info": {
   "codemirror_mode": {
    "name": "ipython",
    "version": 3
   },
   "file_extension": ".py",
   "mimetype": "text/x-python",
   "name": "python",
   "nbconvert_exporter": "python",
   "pygments_lexer": "ipython3",
   "version": "3.6.5"
  }
 },
 "nbformat": 4,
 "nbformat_minor": 4
}
